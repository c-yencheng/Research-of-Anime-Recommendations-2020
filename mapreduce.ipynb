{
 "cells": [
  {
   "cell_type": "code",
   "execution_count": 1,
   "id": "08fa5d16",
   "metadata": {},
   "outputs": [],
   "source": [
    "import pandas as pd"
   ]
  },
  {
   "cell_type": "code",
   "execution_count": 2,
   "id": "c8114230",
   "metadata": {},
   "outputs": [],
   "source": [
    "df=pd.read_csv('anime.csv')\n"
   ]
  },
  {
   "cell_type": "code",
   "execution_count": 3,
   "id": "06f7d0f9",
   "metadata": {},
   "outputs": [],
   "source": [
    "df= df[df['Score'] != 'Unknown']"
   ]
  },
  {
   "cell_type": "code",
   "execution_count": 4,
   "id": "267db8b7",
   "metadata": {},
   "outputs": [],
   "source": [
    "df['Score']=pd.to_numeric(df['Score'])\n",
    "df= df[df['Score'] >6.51]"
   ]
  },
  {
   "cell_type": "code",
   "execution_count": 5,
   "id": "5a025b88",
   "metadata": {},
   "outputs": [],
   "source": [
    "distinc=[]\n",
    "for i in list(df['Genres']):\n",
    "    lis=i.split(\",\")\n",
    "    for j in lis:\n",
    "        j=j.strip(\" \")\n",
    "        if j not in distinc:\n",
    "            distinc.append(j)"
   ]
  },
  {
   "cell_type": "code",
   "execution_count": 6,
   "id": "f9e1b748",
   "metadata": {},
   "outputs": [
    {
     "data": {
      "text/plain": [
       "{'Action': 2048,\n",
       " 'Adventure': 1416,\n",
       " 'Comedy': 2761,\n",
       " 'Drama': 1451,\n",
       " 'Sci-Fi': 1235,\n",
       " 'Space': 232,\n",
       " 'Mystery': 490,\n",
       " 'Shounen': 1347,\n",
       " 'Police': 152,\n",
       " 'Supernatural': 884,\n",
       " 'Magic': 589,\n",
       " 'Fantasy': 1407,\n",
       " 'Sports': 344,\n",
       " 'Josei': 65,\n",
       " 'Romance': 1218,\n",
       " 'Slice of Life': 885,\n",
       " 'Cars': 29,\n",
       " 'Seinen': 521,\n",
       " 'Horror': 171,\n",
       " 'Psychological': 217,\n",
       " 'Thriller': 83,\n",
       " 'Super Power': 354,\n",
       " 'Martial Arts': 221,\n",
       " 'School': 1006,\n",
       " 'Ecchi': 394,\n",
       " 'Vampire': 93,\n",
       " 'Military': 345,\n",
       " 'Historical': 445,\n",
       " 'Dementia': 33,\n",
       " 'Mecha': 509,\n",
       " 'Demons': 252,\n",
       " 'Samurai': 97,\n",
       " 'Game': 151,\n",
       " 'Harem': 283,\n",
       " 'Music': 388,\n",
       " 'Shoujo': 402,\n",
       " 'Shoujo Ai': 55,\n",
       " 'Shounen Ai': 57,\n",
       " 'Kids': 235,\n",
       " 'Hentai': 409,\n",
       " 'Parody': 202,\n",
       " 'Yaoi': 18,\n",
       " 'Yuri': 8}"
      ]
     },
     "execution_count": 6,
     "metadata": {},
     "output_type": "execute_result"
    }
   ],
   "source": [
    "dicgen={}\n",
    "for i in distinc:\n",
    "    dicgen[i]=0\n",
    "for i in list(df['Genres']):\n",
    "    lis=i.split(\",\")\n",
    "    for j in lis:\n",
    "        j=j.strip(\" \")\n",
    "        if j in distinc:\n",
    "            dicgen[j]+=1\n",
    "dicgen"
   ]
  }
 ],
 "metadata": {
  "kernelspec": {
   "display_name": "Python 3 (ipykernel)",
   "language": "python",
   "name": "python3"
  },
  "language_info": {
   "codemirror_mode": {
    "name": "ipython",
    "version": 3
   },
   "file_extension": ".py",
   "mimetype": "text/x-python",
   "name": "python",
   "nbconvert_exporter": "python",
   "pygments_lexer": "ipython3",
   "version": "3.9.13"
  }
 },
 "nbformat": 4,
 "nbformat_minor": 5
}
