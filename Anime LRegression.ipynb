{
 "cells": [
  {
   "cell_type": "markdown",
   "id": "d86d09f1",
   "metadata": {},
   "source": [
    "# Anime LR Problem"
   ]
  },
  {
   "cell_type": "markdown",
   "id": "1b72fe62",
   "metadata": {},
   "source": [
    "Import the data"
   ]
  },
  {
   "cell_type": "code",
   "execution_count": 1,
   "id": "764565d0",
   "metadata": {
    "scrolled": true
   },
   "outputs": [
    {
     "name": "stderr",
     "output_type": "stream",
     "text": [
      "WARNING: An illegal reflective access operation has occurred\n",
      "WARNING: Illegal reflective access by org.apache.spark.unsafe.Platform (file:/Users/sarahyang/opt/anaconda3/envs/pyspark/lib/python3.10/site-packages/pyspark/jars/spark-unsafe_2.12-3.1.2.jar) to constructor java.nio.DirectByteBuffer(long,int)\n",
      "WARNING: Please consider reporting this to the maintainers of org.apache.spark.unsafe.Platform\n",
      "WARNING: Use --illegal-access=warn to enable warnings of further illegal reflective access operations\n",
      "WARNING: All illegal access operations will be denied in a future release\n",
      "22/12/04 22:33:39 WARN NativeCodeLoader: Unable to load native-hadoop library for your platform... using builtin-java classes where applicable\n",
      "Using Spark's default log4j profile: org/apache/spark/log4j-defaults.properties\n",
      "Setting default log level to \"WARN\".\n",
      "To adjust logging level use sc.setLogLevel(newLevel). For SparkR, use setLogLevel(newLevel).\n"
     ]
    }
   ],
   "source": [
    "import pyspark\n",
    "from pyspark.sql import SparkSession\n",
    "spark = SparkSession.builder.master(\"local[*]\").appName('Anime').getOrCreate()\n",
    "sc = spark.sparkContext"
   ]
  },
  {
   "cell_type": "code",
   "execution_count": 2,
   "id": "ab5d72d4",
   "metadata": {},
   "outputs": [
    {
     "name": "stderr",
     "output_type": "stream",
     "text": [
      "\r",
      "[Stage 0:>                                                          (0 + 1) / 1]\r",
      "\r",
      "                                                                                \r"
     ]
    }
   ],
   "source": [
    "# read data\n",
    "df = spark.read.option(\"header\",\"true\").csv(\"anime.csv\",inferSchema = True)"
   ]
  },
  {
   "cell_type": "markdown",
   "id": "5547e7e1",
   "metadata": {},
   "source": [
    "Preprocess the data"
   ]
  },
  {
   "cell_type": "code",
   "execution_count": 3,
   "id": "2ab28644",
   "metadata": {},
   "outputs": [],
   "source": [
    "# drop NA value\n",
    "df = df[df['Score'] != 'Unknown']\n",
    "df = df[df['Source'] != 'Unknown']\n",
    "df = df[df['Rating'] != 'Unknown']"
   ]
  },
  {
   "cell_type": "code",
   "execution_count": 4,
   "id": "53879eed",
   "metadata": {},
   "outputs": [],
   "source": [
    "# convert string to float & integer\n",
    "from pyspark.sql.functions import col\n",
    "from pyspark.sql.types import FloatType\n",
    "df = df.withColumn('Score',col('Score').cast('float'))\n",
    "df = df.withColumn('Popularity',col('Popularity').cast('int'))"
   ]
  },
  {
   "cell_type": "code",
   "execution_count": 5,
   "id": "18e228ec",
   "metadata": {},
   "outputs": [],
   "source": [
    "# create a new column 'Views'\n",
    "df = df.withColumn('Views',df['Score-10']+df['Score-9']+df['Score-8']+df['Score-7']+df['Score-6']\n",
    "                  +df['Score-5']+df['Score-4']+df['Score-3']+df['Score-2']+df['Score-1'])\n",
    "df = df.dropna()"
   ]
  },
  {
   "cell_type": "code",
   "execution_count": 6,
   "id": "c9913c5b",
   "metadata": {},
   "outputs": [
    {
     "name": "stderr",
     "output_type": "stream",
     "text": [
      "22/12/04 22:34:04 WARN package: Truncated the string representation of a plan since it was too large. This behavior can be adjusted by setting 'spark.sql.debug.maxToStringFields'.\n"
     ]
    },
    {
     "name": "stdout",
     "output_type": "stream",
     "text": [
      "+-----+-----+--------+--------------------+----------+-------+---------+--------+-------+-------+-------------+--------+\n",
      "|Score| Type|  Source|              Rating|Popularity|Members|Favorites|Watching|On-Hold|Dropped|Plan to Watch|   Views|\n",
      "+-----+-----+--------+--------------------+----------+-------+---------+--------+-------+-------+-------------+--------+\n",
      "| 8.78|   TV|Original|R - 17+ (violence...|        39|1251960|    61971|  105808|  71513|  26678|       329800|641705.0|\n",
      "| 8.39|Movie|Original|R - 17+ (violence...|       518| 273145|     1174|    4143|   1935|    770|        57964|160349.0|\n",
      "| 8.24|   TV|   Manga|PG-13 - Teens 13 ...|       201| 558913|    12944|   29113|  25465|  13925|       146918|286146.0|\n",
      "| 7.27|   TV|Original|PG-13 - Teens 13 ...|      1467|  94683|      587|    4300|   5121|   5378|        33719| 39094.0|\n",
      "| 6.98|   TV|   Manga|       PG - Children|      4369|  13224|       18|     642|    766|   1108|         3394|  5923.0|\n",
      "+-----+-----+--------+--------------------+----------+-------+---------+--------+-------+-------+-------------+--------+\n",
      "only showing top 5 rows\n",
      "\n"
     ]
    }
   ],
   "source": [
    "# select column\n",
    "df = df.select(['Score','Type','Source','Rating','Popularity','Members','Favorites','Watching',\n",
    "                'On-Hold','Dropped','Plan to Watch','Views'])\n",
    "df.show(5)"
   ]
  },
  {
   "cell_type": "code",
   "execution_count": 7,
   "id": "79ce528b",
   "metadata": {},
   "outputs": [
    {
     "name": "stdout",
     "output_type": "stream",
     "text": [
      "root\n",
      " |-- Score: float (nullable = true)\n",
      " |-- Type: string (nullable = true)\n",
      " |-- Source: string (nullable = true)\n",
      " |-- Rating: string (nullable = true)\n",
      " |-- Popularity: integer (nullable = true)\n",
      " |-- Members: integer (nullable = true)\n",
      " |-- Favorites: integer (nullable = true)\n",
      " |-- Watching: integer (nullable = true)\n",
      " |-- On-Hold: integer (nullable = true)\n",
      " |-- Dropped: integer (nullable = true)\n",
      " |-- Plan to Watch: integer (nullable = true)\n",
      " |-- Views: double (nullable = true)\n",
      "\n"
     ]
    }
   ],
   "source": [
    "# x and y variables\n",
    "df.printSchema()"
   ]
  },
  {
   "cell_type": "code",
   "execution_count": 8,
   "id": "81abc008",
   "metadata": {},
   "outputs": [
    {
     "name": "stderr",
     "output_type": "stream",
     "text": [
      "                                                                                \r"
     ]
    },
    {
     "data": {
      "text/html": [
       "<div>\n",
       "<style scoped>\n",
       "    .dataframe tbody tr th:only-of-type {\n",
       "        vertical-align: middle;\n",
       "    }\n",
       "\n",
       "    .dataframe tbody tr th {\n",
       "        vertical-align: top;\n",
       "    }\n",
       "\n",
       "    .dataframe thead th {\n",
       "        text-align: right;\n",
       "    }\n",
       "</style>\n",
       "<table border=\"1\" class=\"dataframe\">\n",
       "  <thead>\n",
       "    <tr style=\"text-align: right;\">\n",
       "      <th></th>\n",
       "      <th>summary</th>\n",
       "      <th>Score</th>\n",
       "      <th>Type</th>\n",
       "      <th>Source</th>\n",
       "      <th>Rating</th>\n",
       "      <th>Popularity</th>\n",
       "      <th>Members</th>\n",
       "      <th>Favorites</th>\n",
       "      <th>Watching</th>\n",
       "      <th>On-Hold</th>\n",
       "      <th>Dropped</th>\n",
       "      <th>Plan to Watch</th>\n",
       "      <th>Views</th>\n",
       "    </tr>\n",
       "  </thead>\n",
       "  <tbody>\n",
       "    <tr>\n",
       "      <th>0</th>\n",
       "      <td>count</td>\n",
       "      <td>10123</td>\n",
       "      <td>10123</td>\n",
       "      <td>10123</td>\n",
       "      <td>10123</td>\n",
       "      <td>10123</td>\n",
       "      <td>10123</td>\n",
       "      <td>10123</td>\n",
       "      <td>10123</td>\n",
       "      <td>10123</td>\n",
       "      <td>10123</td>\n",
       "      <td>10123</td>\n",
       "      <td>10123</td>\n",
       "    </tr>\n",
       "    <tr>\n",
       "      <th>1</th>\n",
       "      <td>mean</td>\n",
       "      <td>6.618139882374102</td>\n",
       "      <td>None</td>\n",
       "      <td>None</td>\n",
       "      <td>None</td>\n",
       "      <td>5730.270473179888</td>\n",
       "      <td>58803.960979946656</td>\n",
       "      <td>789.5186209621654</td>\n",
       "      <td>3820.6660081003656</td>\n",
       "      <td>1637.2161414600414</td>\n",
       "      <td>1996.3671836412132</td>\n",
       "      <td>13467.022127827719</td>\n",
       "      <td>30493.593796305442</td>\n",
       "    </tr>\n",
       "    <tr>\n",
       "      <th>2</th>\n",
       "      <td>stddev</td>\n",
       "      <td>0.8857704884898757</td>\n",
       "      <td>None</td>\n",
       "      <td>None</td>\n",
       "      <td>None</td>\n",
       "      <td>3690.4630589069293</td>\n",
       "      <td>160664.97255351138</td>\n",
       "      <td>5327.693221235331</td>\n",
       "      <td>18320.451425310617</td>\n",
       "      <td>5532.227784066705</td>\n",
       "      <td>6109.466350261791</td>\n",
       "      <td>29741.68165984968</td>\n",
       "      <td>96417.33167399192</td>\n",
       "    </tr>\n",
       "    <tr>\n",
       "      <th>3</th>\n",
       "      <td>min</td>\n",
       "      <td>1.85</td>\n",
       "      <td>Movie</td>\n",
       "      <td>4-koma manga</td>\n",
       "      <td>G - All Ages</td>\n",
       "      <td>1</td>\n",
       "      <td>172</td>\n",
       "      <td>0</td>\n",
       "      <td>0</td>\n",
       "      <td>0</td>\n",
       "      <td>0</td>\n",
       "      <td>13</td>\n",
       "      <td>101.0</td>\n",
       "    </tr>\n",
       "    <tr>\n",
       "      <th>4</th>\n",
       "      <td>25%</td>\n",
       "      <td>6.07</td>\n",
       "      <td>None</td>\n",
       "      <td>None</td>\n",
       "      <td>None</td>\n",
       "      <td>2580</td>\n",
       "      <td>2243</td>\n",
       "      <td>3</td>\n",
       "      <td>87</td>\n",
       "      <td>54</td>\n",
       "      <td>77</td>\n",
       "      <td>789</td>\n",
       "      <td>745.0</td>\n",
       "    </tr>\n",
       "    <tr>\n",
       "      <th>5</th>\n",
       "      <td>50%</td>\n",
       "      <td>6.64</td>\n",
       "      <td>None</td>\n",
       "      <td>None</td>\n",
       "      <td>None</td>\n",
       "      <td>5357</td>\n",
       "      <td>7999</td>\n",
       "      <td>17</td>\n",
       "      <td>363</td>\n",
       "      <td>210</td>\n",
       "      <td>198</td>\n",
       "      <td>2509</td>\n",
       "      <td>3110.0</td>\n",
       "    </tr>\n",
       "    <tr>\n",
       "      <th>6</th>\n",
       "      <td>75%</td>\n",
       "      <td>7.24</td>\n",
       "      <td>None</td>\n",
       "      <td>None</td>\n",
       "      <td>None</td>\n",
       "      <td>8557</td>\n",
       "      <td>39050</td>\n",
       "      <td>116</td>\n",
       "      <td>1543</td>\n",
       "      <td>815</td>\n",
       "      <td>862</td>\n",
       "      <td>10587</td>\n",
       "      <td>17351.0</td>\n",
       "    </tr>\n",
       "    <tr>\n",
       "      <th>7</th>\n",
       "      <td>max</td>\n",
       "      <td>9.19</td>\n",
       "      <td>TV</td>\n",
       "      <td>Web manga</td>\n",
       "      <td>Rx - Hentai</td>\n",
       "      <td>15374</td>\n",
       "      <td>2589552</td>\n",
       "      <td>183914</td>\n",
       "      <td>887333</td>\n",
       "      <td>187919</td>\n",
       "      <td>174710</td>\n",
       "      <td>425531</td>\n",
       "      <td>1826691.0</td>\n",
       "    </tr>\n",
       "  </tbody>\n",
       "</table>\n",
       "</div>"
      ],
      "text/plain": [
       "  summary               Score   Type        Source        Rating  \\\n",
       "0   count               10123  10123         10123         10123   \n",
       "1    mean   6.618139882374102   None          None          None   \n",
       "2  stddev  0.8857704884898757   None          None          None   \n",
       "3     min                1.85  Movie  4-koma manga  G - All Ages   \n",
       "4     25%                6.07   None          None          None   \n",
       "5     50%                6.64   None          None          None   \n",
       "6     75%                7.24   None          None          None   \n",
       "7     max                9.19     TV     Web manga   Rx - Hentai   \n",
       "\n",
       "           Popularity             Members          Favorites  \\\n",
       "0               10123               10123              10123   \n",
       "1   5730.270473179888  58803.960979946656  789.5186209621654   \n",
       "2  3690.4630589069293  160664.97255351138  5327.693221235331   \n",
       "3                   1                 172                  0   \n",
       "4                2580                2243                  3   \n",
       "5                5357                7999                 17   \n",
       "6                8557               39050                116   \n",
       "7               15374             2589552             183914   \n",
       "\n",
       "             Watching             On-Hold             Dropped  \\\n",
       "0               10123               10123               10123   \n",
       "1  3820.6660081003656  1637.2161414600414  1996.3671836412132   \n",
       "2  18320.451425310617   5532.227784066705   6109.466350261791   \n",
       "3                   0                   0                   0   \n",
       "4                  87                  54                  77   \n",
       "5                 363                 210                 198   \n",
       "6                1543                 815                 862   \n",
       "7              887333              187919              174710   \n",
       "\n",
       "        Plan to Watch               Views  \n",
       "0               10123               10123  \n",
       "1  13467.022127827719  30493.593796305442  \n",
       "2   29741.68165984968   96417.33167399192  \n",
       "3                  13               101.0  \n",
       "4                 789               745.0  \n",
       "5                2509              3110.0  \n",
       "6               10587             17351.0  \n",
       "7              425531           1826691.0  "
      ]
     },
     "execution_count": 8,
     "metadata": {},
     "output_type": "execute_result"
    }
   ],
   "source": [
    "# summary\n",
    "df.summary().toPandas()"
   ]
  },
  {
   "cell_type": "markdown",
   "id": "79311071",
   "metadata": {},
   "source": [
    "Linear Regression"
   ]
  },
  {
   "cell_type": "code",
   "execution_count": 9,
   "id": "497c6b1a",
   "metadata": {},
   "outputs": [
    {
     "name": "stderr",
     "output_type": "stream",
     "text": [
      "                                                                                \r"
     ]
    },
    {
     "name": "stdout",
     "output_type": "stream",
     "text": [
      "+-----+----------+-------+---------+--------+-------+-------+-------------+--------+----------+------------+------------+\n",
      "|Score|Popularity|Members|Favorites|Watching|On-Hold|Dropped|Plan to Watch|   Views|Type_index|Source_index|Rating_index|\n",
      "+-----+----------+-------+---------+--------+-------+-------+-------------+--------+----------+------------+------------+\n",
      "| 8.78|        39|1251960|    61971|  105808|  71513|  26678|       329800|641705.0|       0.0|         1.0|         3.0|\n",
      "| 8.39|       518| 273145|     1174|    4143|   1935|    770|        57964|160349.0|       2.0|         1.0|         3.0|\n",
      "| 8.24|       201| 558913|    12944|   29113|  25465|  13925|       146918|286146.0|       0.0|         0.0|         0.0|\n",
      "| 7.27|      1467|  94683|      587|    4300|   5121|   5378|        33719| 39094.0|       0.0|         1.0|         0.0|\n",
      "| 6.98|      4369|  13224|       18|     642|    766|   1108|         3394|  5923.0|       0.0|         0.0|         5.0|\n",
      "| 7.95|      1003| 148259|     2066|   13907|  14228|  11573|        30202| 73924.0|       0.0|         0.0|         0.0|\n",
      "| 8.06|       687| 214499|     4101|   11909|  11901|  11026|        98518| 72352.0|       0.0|         0.0|         0.0|\n",
      "| 7.59|      3612|  20470|      231|     817|    828|   1168|         3879| 11334.0|       0.0|         0.0|         0.0|\n",
      "| 8.15|      1233| 117929|      979|    6082|   3053|   1356|        16471| 67942.0|       0.0|         0.0|         0.0|\n",
      "| 8.76|       169| 614100|    29436|   64648|  47488|  23008|       264465|221486.0|       0.0|         0.0|         4.0|\n",
      "+-----+----------+-------+---------+--------+-------+-------+-------------+--------+----------+------------+------------+\n",
      "only showing top 10 rows\n",
      "\n"
     ]
    }
   ],
   "source": [
    "# convert string variables\n",
    "from pyspark.ml.feature import StringIndexer,VectorAssembler\n",
    "from pyspark.ml import Pipeline\n",
    "convert = [StringIndexer(inputCol = column, outputCol = column+\"_index\")\n",
    "            .fit(df) for column in ['Type','Source','Rating']]\n",
    "pipeline = Pipeline(stages = convert)\n",
    "df = pipeline.fit(df).transform(df)\n",
    "df = df.drop('Type','Source','Rating')\n",
    "df.show(10)"
   ]
  },
  {
   "cell_type": "code",
   "execution_count": 10,
   "id": "ac9d40b1",
   "metadata": {},
   "outputs": [],
   "source": [
    "# create vector\n",
    "feature = VectorAssembler(inputCols = df.columns[1:],outputCol = \"Features\")\n",
    "feature_vector = feature.transform(df)"
   ]
  },
  {
   "cell_type": "code",
   "execution_count": 11,
   "id": "e46062c2",
   "metadata": {},
   "outputs": [],
   "source": [
    "# split data to train and test subset\n",
    "(traindata,testdata) = feature_vector.randomSplit([0.8, 0.2],seed = 42)"
   ]
  },
  {
   "cell_type": "code",
   "execution_count": 12,
   "id": "fff2314b",
   "metadata": {},
   "outputs": [
    {
     "name": "stderr",
     "output_type": "stream",
     "text": [
      "22/12/04 22:34:33 WARN Instrumentation: [1c3ae9dc] regParam is zero, which might cause numerical instability and overfitting.\n",
      "22/12/04 22:34:33 WARN BLAS: Failed to load implementation from: com.github.fommil.netlib.NativeSystemBLAS\n",
      "22/12/04 22:34:33 WARN BLAS: Failed to load implementation from: com.github.fommil.netlib.NativeRefBLAS\n",
      "22/12/04 22:34:33 WARN LAPACK: Failed to load implementation from: com.github.fommil.netlib.NativeSystemLAPACK\n",
      "22/12/04 22:34:33 WARN LAPACK: Failed to load implementation from: com.github.fommil.netlib.NativeRefLAPACK\n"
     ]
    }
   ],
   "source": [
    "# model\n",
    "from pyspark.ml.regression import LinearRegression\n",
    "score_lr = LinearRegression(featuresCol = 'Features',labelCol = 'Score')\n",
    "train_model = score_lr.fit(traindata)\n",
    "results = train_model.evaluate(traindata)"
   ]
  },
  {
   "cell_type": "code",
   "execution_count": 14,
   "id": "ad1f43de",
   "metadata": {},
   "outputs": [
    {
     "data": {
      "text/plain": [
       "DenseVector([-0.0002, -0.0, -0.0, 0.0, 0.0001, -0.0001, 0.0, 0.0, 0.0143, -0.0051, -0.0449])"
      ]
     },
     "execution_count": 14,
     "metadata": {},
     "output_type": "execute_result"
    }
   ],
   "source": [
    "# coeffcients\n",
    "train_model.coefficients"
   ]
  },
  {
   "cell_type": "code",
   "execution_count": 13,
   "id": "2ad080a6",
   "metadata": {},
   "outputs": [
    {
     "name": "stdout",
     "output_type": "stream",
     "text": [
      "Mean Squared Error : 0.3685942532977168\n",
      "Rsquared Error : 0.5320844620570304\n"
     ]
    }
   ],
   "source": [
    "# error rate\n",
    "print('Mean Squared Error :',results.meanSquaredError)\n",
    "print('Rsquared Error :',results.r2)"
   ]
  },
  {
   "cell_type": "code",
   "execution_count": 14,
   "id": "e94a9bf1",
   "metadata": {},
   "outputs": [
    {
     "name": "stdout",
     "output_type": "stream",
     "text": [
      "+--------------------+-----------------+\n",
      "|            Features|       prediction|\n",
      "+--------------------+-----------------+\n",
      "|[2216.0,52059.0,2...|7.215597854550731|\n",
      "|[6805.0,4426.0,27...|6.266605410005332|\n",
      "|[9448.0,1577.0,1....|5.898949599246521|\n",
      "|[9409.0,1597.0,1....|5.905856513538575|\n",
      "|[9967.0,1249.0,4....|5.845432882437087|\n",
      "|[8817.0,2013.0,1....|6.208256058983739|\n",
      "|[997.0,149948.0,2...|6.422304324758633|\n",
      "|[8950.0,1908.0,0....|6.051613506792226|\n",
      "|[10445.0,1016.0,1...|5.874748942111927|\n",
      "|[6007.0,6051.0,18...|6.637592076915379|\n",
      "+--------------------+-----------------+\n",
      "only showing top 10 rows\n",
      "\n"
     ]
    }
   ],
   "source": [
    "# predictions\n",
    "predict_data = testdata.select('Features')\n",
    "predictions = train_model.transform(predict_data)\n",
    "predictions.show(10)"
   ]
  }
 ],
 "metadata": {
  "kernelspec": {
   "display_name": "Python 3 (ipykernel)",
   "language": "python",
   "name": "python3"
  },
  "language_info": {
   "codemirror_mode": {
    "name": "ipython",
    "version": 3
   },
   "file_extension": ".py",
   "mimetype": "text/x-python",
   "name": "python",
   "nbconvert_exporter": "python",
   "pygments_lexer": "ipython3",
   "version": "3.10.6"
  }
 },
 "nbformat": 4,
 "nbformat_minor": 5
}
